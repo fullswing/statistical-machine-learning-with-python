{
 "cells": [
  {
   "cell_type": "code",
   "execution_count": 2,
   "metadata": {},
   "outputs": [],
   "source": [
    "import numpy as np\n",
    "import matplotlib.pyplot as plt\n",
    "%matplotlib inline\n",
    "import japanize_matplotlib\n",
    "import scipy\n",
    "from scipy import stats\n",
    "from numpy.random import randn\n",
    "import copy"
   ]
  },
  {
   "cell_type": "markdown",
   "metadata": {},
   "source": [
    "$x_1,\\dots,x_N, y_1,\\dots, y_N \\in \\mathbb R$について、$\\sum_{i=1}^N (y_i - \\beta_0 - \\beta_1x_i)^2$を最小にする$\\beta_0, \\beta_1\\in \\mathbb R$を$\\hat{\\beta}_0, \\hat{\\beta}_1$と置くとき、以下の等式を示す。ただし、$\\bar x, \\bar y $はそれぞれ$\\frac{1}{N}\\sum_{i=1}^N x_1, \\frac{1}{N}\\sum_{i=1}^N y_i$である。\n",
    "\n",
    "$(a)$\n",
    "$$ \\text{  } \\hat{\\beta}_0 +  \\hat{\\beta}_1 \\bar x = \\bar y $$\n",
    "\n",
    "$(b)$\n",
    "\n",
    "$ x_1,\\dots x_N$がすべて等しくはない時\n",
    "$$\\hat{\\beta}_1 = \\frac{\\sum_{i=1}^N (x_i - \\bar x)(y_i - \\bar{y})}{\\sum_{i=1}^N (x_i - \\bar x)^2}$$"
   ]
  },
  {
   "cell_type": "markdown",
   "metadata": {},
   "source": [
    "$(a)$\n",
    "\n",
    "$S=\\sum_{i=1}^N (y_i - \\beta_0 - \\beta_1x_i)^2$とおく。それぞれのパラメータについて偏微分すると以下である。\n",
    "\\begin{align*}\n",
    "\\frac{\\partial S}{\\partial \\beta_0} &= -2\\sum_{i=1}^N(y_i - \\beta_0  - \\beta_1 x_i)\\\\\n",
    "\\frac{\\partial S}{\\partial \\beta_1} &= -2\\sum_{i=1}^Nx_i(y_i - \\beta_0  - \\beta_1 x_i)\\\\\n",
    "\\end{align*}\n",
    "最小二乗推定量$\\hat\\beta_0, \\hat\\beta_1$は$\\frac{\\partial S}{\\partial \\beta_0}=0, \\frac{\\partial S}{\\partial \\beta_1}=0$の解である。よって、$(a)$は$\\frac{\\partial S}{\\partial \\beta_0}=0$から得られる。"
   ]
  },
  {
   "cell_type": "markdown",
   "metadata": {},
   "source": [
    "$(b)$"
   ]
  },
  {
   "cell_type": "markdown",
   "metadata": {},
   "source": [
    "$ -2\\sum_{i=1}^Nx_i(y_i - \\hat\\beta_0  - \\hat\\beta_1 x_i)=0$に$\\hat{\\beta}_0 +  \\hat{\\beta}_1 \\bar x = \\bar y$を代入する。\n",
    "\n",
    "ここで、中心化するために$x_i' = x_i - \\bar x, y_i' = y_i - \\bar y$なる変換を施す。そのような場合でも、$S$の値は変わらない。すなわち、$(a)$で求めた偏微分の式は以下と同値になる。\n",
    "\\begin{align}\n",
    "\\frac{\\partial S}{\\partial \\beta_0} &= -2\\sum_{i=1}^N(y_i' - \\beta_0  - \\beta_1 x_i')\\\\\n",
    "\\frac{\\partial S}{\\partial \\beta_1} &= -2\\sum_{i=1}^Nx_i'(y_i' - \\beta_0  - \\beta_1 x_i')\\\\\n",
    "\\end{align}\n",
    "よって、\n",
    "\\begin{align*}\n",
    " -2\\sum_{i=1}^Nx_i'(y_i' - \\beta_1 x_i')&=0\\\\\n",
    " \\therefore \\text{ } \\hat\\beta_1 &=\\frac{\\sum x_i'y_i}{\\sum x'^2}\\\\\n",
    "\\end{align*}\n",
    "$x_i' = x_i - \\bar x, y_i' = y_i - \\bar y$としてデータを戻せば、$\\hat\\beta_1$の式が得られる。"
   ]
  },
  {
   "cell_type": "code",
   "execution_count": null,
   "metadata": {},
   "outputs": [],
   "source": []
  }
 ],
 "metadata": {
  "kernelspec": {
   "display_name": "Python 3",
   "language": "python",
   "name": "python3"
  },
  "language_info": {
   "codemirror_mode": {
    "name": "ipython",
    "version": 3
   },
   "file_extension": ".py",
   "mimetype": "text/x-python",
   "name": "python",
   "nbconvert_exporter": "python",
   "pygments_lexer": "ipython3",
   "version": "3.8.2"
  }
 },
 "nbformat": 4,
 "nbformat_minor": 4
}
