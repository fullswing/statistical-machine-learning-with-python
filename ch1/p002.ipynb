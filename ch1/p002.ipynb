{
 "cells": [
  {
   "cell_type": "code",
   "execution_count": 2,
   "metadata": {},
   "outputs": [],
   "source": [
    "import numpy as np\n",
    "import matplotlib.pyplot as plt\n",
    "%matplotlib inline\n",
    "import japanize_matplotlib\n",
    "import scipy\n",
    "from scipy import stats\n",
    "from numpy.random import randn\n",
    "import copy"
   ]
  },
  {
   "cell_type": "markdown",
   "metadata": {},
   "source": [
    "$x_1-\\bar x,\\dots,x_N-\\bar x$および$y_1-\\bar y,\\dots, y_N-\\bar y$から得られた直線$l'$の切片と傾きを求める。\n",
    "問1より、傾きは$ \\frac{\\sum x_i'y_i'}{\\sum x'^2}$\n",
    "\n",
    "切片は0である。\n",
    "\n",
    "$ \\hat{\\beta}_0 +  \\hat{\\beta}_1 \\bar x = \\bar y$に$\\hat\\beta_1$を代入すれば平行移動前の切片が求まる。"
   ]
  },
  {
   "cell_type": "code",
   "execution_count": null,
   "metadata": {},
   "outputs": [],
   "source": []
  }
 ],
 "metadata": {
  "kernelspec": {
   "display_name": "Python 3",
   "language": "python",
   "name": "python3"
  },
  "language_info": {
   "codemirror_mode": {
    "name": "ipython",
    "version": 3
   },
   "file_extension": ".py",
   "mimetype": "text/x-python",
   "name": "python",
   "nbconvert_exporter": "python",
   "pygments_lexer": "ipython3",
   "version": "3.8.2"
  }
 },
 "nbformat": 4,
 "nbformat_minor": 4
}
